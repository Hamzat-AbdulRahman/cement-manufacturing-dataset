{
 "cells": [
  {
   "cell_type": "markdown",
   "id": "963fa8ac",
   "metadata": {},
   "source": [
    "# Cement Manufacturing Dataset\n",
    "## by HAMZAT ABDULRAHMAN"
   ]
  },
  {
   "cell_type": "markdown",
   "id": "ba4ef488",
   "metadata": {},
   "source": [
    "## Table of Contents\n"
   ]
  },
  {
   "cell_type": "markdown",
   "id": "cb160f3c",
   "metadata": {},
   "source": [
    "#### Imports"
   ]
  },
  {
   "cell_type": "code",
   "execution_count": 2,
   "id": "2dda1bde",
   "metadata": {},
   "outputs": [],
   "source": [
    "import pandas as pd\n",
    "import numpy as np\n",
    "import matplotlib.pyplot as plt\n",
    "import seaborn as sb\n",
    "from matplotlib import rcParams\n",
    "\n",
    "%matplotlib inline"
   ]
  },
  {
   "cell_type": "markdown",
   "id": "c70f94d4",
   "metadata": {},
   "source": [
    "### Data Gathering"
   ]
  },
  {
   "cell_type": "code",
   "execution_count": 3,
   "id": "db73225f",
   "metadata": {},
   "outputs": [
    {
     "data": {
      "text/html": [
       "<div>\n",
       "<style scoped>\n",
       "    .dataframe tbody tr th:only-of-type {\n",
       "        vertical-align: middle;\n",
       "    }\n",
       "\n",
       "    .dataframe tbody tr th {\n",
       "        vertical-align: top;\n",
       "    }\n",
       "\n",
       "    .dataframe thead th {\n",
       "        text-align: right;\n",
       "    }\n",
       "</style>\n",
       "<table border=\"1\" class=\"dataframe\">\n",
       "  <thead>\n",
       "    <tr style=\"text-align: right;\">\n",
       "      <th></th>\n",
       "      <th>cement</th>\n",
       "      <th>slag</th>\n",
       "      <th>ash</th>\n",
       "      <th>water</th>\n",
       "      <th>superplastic</th>\n",
       "      <th>coarseagg</th>\n",
       "      <th>fineagg</th>\n",
       "      <th>age</th>\n",
       "      <th>strength</th>\n",
       "    </tr>\n",
       "  </thead>\n",
       "  <tbody>\n",
       "    <tr>\n",
       "      <th>0</th>\n",
       "      <td>141.3</td>\n",
       "      <td>212.0</td>\n",
       "      <td>0.0</td>\n",
       "      <td>203.5</td>\n",
       "      <td>0.0</td>\n",
       "      <td>971.8</td>\n",
       "      <td>748.5</td>\n",
       "      <td>28</td>\n",
       "      <td>29.89</td>\n",
       "    </tr>\n",
       "    <tr>\n",
       "      <th>1</th>\n",
       "      <td>168.9</td>\n",
       "      <td>42.2</td>\n",
       "      <td>124.3</td>\n",
       "      <td>158.3</td>\n",
       "      <td>10.8</td>\n",
       "      <td>1080.8</td>\n",
       "      <td>796.2</td>\n",
       "      <td>14</td>\n",
       "      <td>23.51</td>\n",
       "    </tr>\n",
       "    <tr>\n",
       "      <th>2</th>\n",
       "      <td>250.0</td>\n",
       "      <td>0.0</td>\n",
       "      <td>95.7</td>\n",
       "      <td>187.4</td>\n",
       "      <td>5.5</td>\n",
       "      <td>956.9</td>\n",
       "      <td>861.2</td>\n",
       "      <td>28</td>\n",
       "      <td>29.22</td>\n",
       "    </tr>\n",
       "    <tr>\n",
       "      <th>3</th>\n",
       "      <td>266.0</td>\n",
       "      <td>114.0</td>\n",
       "      <td>0.0</td>\n",
       "      <td>228.0</td>\n",
       "      <td>0.0</td>\n",
       "      <td>932.0</td>\n",
       "      <td>670.0</td>\n",
       "      <td>28</td>\n",
       "      <td>45.85</td>\n",
       "    </tr>\n",
       "    <tr>\n",
       "      <th>4</th>\n",
       "      <td>154.8</td>\n",
       "      <td>183.4</td>\n",
       "      <td>0.0</td>\n",
       "      <td>193.3</td>\n",
       "      <td>9.1</td>\n",
       "      <td>1047.4</td>\n",
       "      <td>696.7</td>\n",
       "      <td>28</td>\n",
       "      <td>18.29</td>\n",
       "    </tr>\n",
       "  </tbody>\n",
       "</table>\n",
       "</div>"
      ],
      "text/plain": [
       "   cement   slag    ash  water  superplastic  coarseagg  fineagg  age  \\\n",
       "0   141.3  212.0    0.0  203.5           0.0      971.8    748.5   28   \n",
       "1   168.9   42.2  124.3  158.3          10.8     1080.8    796.2   14   \n",
       "2   250.0    0.0   95.7  187.4           5.5      956.9    861.2   28   \n",
       "3   266.0  114.0    0.0  228.0           0.0      932.0    670.0   28   \n",
       "4   154.8  183.4    0.0  193.3           9.1     1047.4    696.7   28   \n",
       "\n",
       "   strength  \n",
       "0     29.89  \n",
       "1     23.51  \n",
       "2     29.22  \n",
       "3     45.85  \n",
       "4     18.29  "
      ]
     },
     "execution_count": 3,
     "metadata": {},
     "output_type": "execute_result"
    }
   ],
   "source": [
    "concrete = pd.read_csv(\"concrete.csv\")\n",
    "concrete.head(5)"
   ]
  },
  {
   "cell_type": "markdown",
   "id": "3fa45181",
   "metadata": {},
   "source": [
    "### Assessing"
   ]
  },
  {
   "cell_type": "code",
   "execution_count": 4,
   "id": "79785c0e",
   "metadata": {},
   "outputs": [
    {
     "name": "stdout",
     "output_type": "stream",
     "text": [
      "<class 'pandas.core.frame.DataFrame'>\n",
      "RangeIndex: 1030 entries, 0 to 1029\n",
      "Data columns (total 9 columns):\n",
      " #   Column        Non-Null Count  Dtype  \n",
      "---  ------        --------------  -----  \n",
      " 0   cement        1030 non-null   float64\n",
      " 1   slag          1030 non-null   float64\n",
      " 2   ash           1030 non-null   float64\n",
      " 3   water         1030 non-null   float64\n",
      " 4   superplastic  1030 non-null   float64\n",
      " 5   coarseagg     1030 non-null   float64\n",
      " 6   fineagg       1030 non-null   float64\n",
      " 7   age           1030 non-null   int64  \n",
      " 8   strength      1030 non-null   float64\n",
      "dtypes: float64(8), int64(1)\n",
      "memory usage: 72.5 KB\n"
     ]
    }
   ],
   "source": [
    "concrete.info()"
   ]
  },
  {
   "cell_type": "code",
   "execution_count": 5,
   "id": "07152dc0",
   "metadata": {},
   "outputs": [
    {
     "data": {
      "text/plain": [
       "25"
      ]
     },
     "execution_count": 5,
     "metadata": {},
     "output_type": "execute_result"
    }
   ],
   "source": [
    "concrete.duplicated().sum()"
   ]
  },
  {
   "cell_type": "code",
   "execution_count": 6,
   "id": "a8ddbb28",
   "metadata": {},
   "outputs": [
    {
     "data": {
      "text/html": [
       "<div>\n",
       "<style scoped>\n",
       "    .dataframe tbody tr th:only-of-type {\n",
       "        vertical-align: middle;\n",
       "    }\n",
       "\n",
       "    .dataframe tbody tr th {\n",
       "        vertical-align: top;\n",
       "    }\n",
       "\n",
       "    .dataframe thead th {\n",
       "        text-align: right;\n",
       "    }\n",
       "</style>\n",
       "<table border=\"1\" class=\"dataframe\">\n",
       "  <thead>\n",
       "    <tr style=\"text-align: right;\">\n",
       "      <th></th>\n",
       "      <th>cement</th>\n",
       "      <th>slag</th>\n",
       "      <th>ash</th>\n",
       "      <th>water</th>\n",
       "      <th>superplastic</th>\n",
       "      <th>coarseagg</th>\n",
       "      <th>fineagg</th>\n",
       "      <th>age</th>\n",
       "      <th>strength</th>\n",
       "    </tr>\n",
       "  </thead>\n",
       "  <tbody>\n",
       "    <tr>\n",
       "      <th>count</th>\n",
       "      <td>1030.000000</td>\n",
       "      <td>1030.000000</td>\n",
       "      <td>1030.000000</td>\n",
       "      <td>1030.000000</td>\n",
       "      <td>1030.000000</td>\n",
       "      <td>1030.000000</td>\n",
       "      <td>1030.000000</td>\n",
       "      <td>1030.000000</td>\n",
       "      <td>1030.000000</td>\n",
       "    </tr>\n",
       "    <tr>\n",
       "      <th>mean</th>\n",
       "      <td>281.167864</td>\n",
       "      <td>73.895825</td>\n",
       "      <td>54.188350</td>\n",
       "      <td>181.567282</td>\n",
       "      <td>6.204660</td>\n",
       "      <td>972.918932</td>\n",
       "      <td>773.580485</td>\n",
       "      <td>45.662136</td>\n",
       "      <td>35.817961</td>\n",
       "    </tr>\n",
       "    <tr>\n",
       "      <th>std</th>\n",
       "      <td>104.506364</td>\n",
       "      <td>86.279342</td>\n",
       "      <td>63.997004</td>\n",
       "      <td>21.354219</td>\n",
       "      <td>5.973841</td>\n",
       "      <td>77.753954</td>\n",
       "      <td>80.175980</td>\n",
       "      <td>63.169912</td>\n",
       "      <td>16.705742</td>\n",
       "    </tr>\n",
       "    <tr>\n",
       "      <th>min</th>\n",
       "      <td>102.000000</td>\n",
       "      <td>0.000000</td>\n",
       "      <td>0.000000</td>\n",
       "      <td>121.800000</td>\n",
       "      <td>0.000000</td>\n",
       "      <td>801.000000</td>\n",
       "      <td>594.000000</td>\n",
       "      <td>1.000000</td>\n",
       "      <td>2.330000</td>\n",
       "    </tr>\n",
       "    <tr>\n",
       "      <th>25%</th>\n",
       "      <td>192.375000</td>\n",
       "      <td>0.000000</td>\n",
       "      <td>0.000000</td>\n",
       "      <td>164.900000</td>\n",
       "      <td>0.000000</td>\n",
       "      <td>932.000000</td>\n",
       "      <td>730.950000</td>\n",
       "      <td>7.000000</td>\n",
       "      <td>23.710000</td>\n",
       "    </tr>\n",
       "    <tr>\n",
       "      <th>50%</th>\n",
       "      <td>272.900000</td>\n",
       "      <td>22.000000</td>\n",
       "      <td>0.000000</td>\n",
       "      <td>185.000000</td>\n",
       "      <td>6.400000</td>\n",
       "      <td>968.000000</td>\n",
       "      <td>779.500000</td>\n",
       "      <td>28.000000</td>\n",
       "      <td>34.445000</td>\n",
       "    </tr>\n",
       "    <tr>\n",
       "      <th>75%</th>\n",
       "      <td>350.000000</td>\n",
       "      <td>142.950000</td>\n",
       "      <td>118.300000</td>\n",
       "      <td>192.000000</td>\n",
       "      <td>10.200000</td>\n",
       "      <td>1029.400000</td>\n",
       "      <td>824.000000</td>\n",
       "      <td>56.000000</td>\n",
       "      <td>46.135000</td>\n",
       "    </tr>\n",
       "    <tr>\n",
       "      <th>max</th>\n",
       "      <td>540.000000</td>\n",
       "      <td>359.400000</td>\n",
       "      <td>200.100000</td>\n",
       "      <td>247.000000</td>\n",
       "      <td>32.200000</td>\n",
       "      <td>1145.000000</td>\n",
       "      <td>992.600000</td>\n",
       "      <td>365.000000</td>\n",
       "      <td>82.600000</td>\n",
       "    </tr>\n",
       "  </tbody>\n",
       "</table>\n",
       "</div>"
      ],
      "text/plain": [
       "            cement         slag          ash        water  superplastic  \\\n",
       "count  1030.000000  1030.000000  1030.000000  1030.000000   1030.000000   \n",
       "mean    281.167864    73.895825    54.188350   181.567282      6.204660   \n",
       "std     104.506364    86.279342    63.997004    21.354219      5.973841   \n",
       "min     102.000000     0.000000     0.000000   121.800000      0.000000   \n",
       "25%     192.375000     0.000000     0.000000   164.900000      0.000000   \n",
       "50%     272.900000    22.000000     0.000000   185.000000      6.400000   \n",
       "75%     350.000000   142.950000   118.300000   192.000000     10.200000   \n",
       "max     540.000000   359.400000   200.100000   247.000000     32.200000   \n",
       "\n",
       "         coarseagg      fineagg          age     strength  \n",
       "count  1030.000000  1030.000000  1030.000000  1030.000000  \n",
       "mean    972.918932   773.580485    45.662136    35.817961  \n",
       "std      77.753954    80.175980    63.169912    16.705742  \n",
       "min     801.000000   594.000000     1.000000     2.330000  \n",
       "25%     932.000000   730.950000     7.000000    23.710000  \n",
       "50%     968.000000   779.500000    28.000000    34.445000  \n",
       "75%    1029.400000   824.000000    56.000000    46.135000  \n",
       "max    1145.000000   992.600000   365.000000    82.600000  "
      ]
     },
     "execution_count": 6,
     "metadata": {},
     "output_type": "execute_result"
    }
   ],
   "source": [
    "concrete.describe()"
   ]
  },
  {
   "cell_type": "code",
   "execution_count": 7,
   "id": "901a263e",
   "metadata": {},
   "outputs": [
    {
     "data": {
      "text/plain": [
       "cement          0\n",
       "slag            0\n",
       "ash             0\n",
       "water           0\n",
       "superplastic    0\n",
       "coarseagg       0\n",
       "fineagg         0\n",
       "age             0\n",
       "strength        0\n",
       "dtype: int64"
      ]
     },
     "execution_count": 7,
     "metadata": {},
     "output_type": "execute_result"
    }
   ],
   "source": [
    "concrete.isna().sum()"
   ]
  },
  {
   "cell_type": "code",
   "execution_count": 8,
   "id": "24761c4a",
   "metadata": {},
   "outputs": [
    {
     "data": {
      "text/html": [
       "<div>\n",
       "<style scoped>\n",
       "    .dataframe tbody tr th:only-of-type {\n",
       "        vertical-align: middle;\n",
       "    }\n",
       "\n",
       "    .dataframe tbody tr th {\n",
       "        vertical-align: top;\n",
       "    }\n",
       "\n",
       "    .dataframe thead th {\n",
       "        text-align: right;\n",
       "    }\n",
       "</style>\n",
       "<table border=\"1\" class=\"dataframe\">\n",
       "  <thead>\n",
       "    <tr style=\"text-align: right;\">\n",
       "      <th></th>\n",
       "      <th>cement</th>\n",
       "      <th>slag</th>\n",
       "      <th>ash</th>\n",
       "      <th>water</th>\n",
       "      <th>superplastic</th>\n",
       "      <th>coarseagg</th>\n",
       "      <th>fineagg</th>\n",
       "      <th>age</th>\n",
       "      <th>strength</th>\n",
       "    </tr>\n",
       "  </thead>\n",
       "  <tbody>\n",
       "    <tr>\n",
       "      <th>438</th>\n",
       "      <td>213.8</td>\n",
       "      <td>98.1</td>\n",
       "      <td>24.5</td>\n",
       "      <td>181.7</td>\n",
       "      <td>6.7</td>\n",
       "      <td>1066.0</td>\n",
       "      <td>785.5</td>\n",
       "      <td>14</td>\n",
       "      <td>17.84</td>\n",
       "    </tr>\n",
       "    <tr>\n",
       "      <th>115</th>\n",
       "      <td>192.0</td>\n",
       "      <td>288.0</td>\n",
       "      <td>0.0</td>\n",
       "      <td>192.0</td>\n",
       "      <td>0.0</td>\n",
       "      <td>929.8</td>\n",
       "      <td>716.1</td>\n",
       "      <td>3</td>\n",
       "      <td>12.79</td>\n",
       "    </tr>\n",
       "    <tr>\n",
       "      <th>718</th>\n",
       "      <td>339.0</td>\n",
       "      <td>0.0</td>\n",
       "      <td>0.0</td>\n",
       "      <td>185.0</td>\n",
       "      <td>0.0</td>\n",
       "      <td>1069.0</td>\n",
       "      <td>754.0</td>\n",
       "      <td>7</td>\n",
       "      <td>21.16</td>\n",
       "    </tr>\n",
       "    <tr>\n",
       "      <th>265</th>\n",
       "      <td>333.0</td>\n",
       "      <td>0.0</td>\n",
       "      <td>0.0</td>\n",
       "      <td>192.0</td>\n",
       "      <td>0.0</td>\n",
       "      <td>931.2</td>\n",
       "      <td>842.6</td>\n",
       "      <td>3</td>\n",
       "      <td>15.62</td>\n",
       "    </tr>\n",
       "    <tr>\n",
       "      <th>597</th>\n",
       "      <td>212.1</td>\n",
       "      <td>0.0</td>\n",
       "      <td>121.6</td>\n",
       "      <td>180.3</td>\n",
       "      <td>5.7</td>\n",
       "      <td>1057.6</td>\n",
       "      <td>779.3</td>\n",
       "      <td>28</td>\n",
       "      <td>24.90</td>\n",
       "    </tr>\n",
       "  </tbody>\n",
       "</table>\n",
       "</div>"
      ],
      "text/plain": [
       "     cement   slag    ash  water  superplastic  coarseagg  fineagg  age  \\\n",
       "438   213.8   98.1   24.5  181.7           6.7     1066.0    785.5   14   \n",
       "115   192.0  288.0    0.0  192.0           0.0      929.8    716.1    3   \n",
       "718   339.0    0.0    0.0  185.0           0.0     1069.0    754.0    7   \n",
       "265   333.0    0.0    0.0  192.0           0.0      931.2    842.6    3   \n",
       "597   212.1    0.0  121.6  180.3           5.7     1057.6    779.3   28   \n",
       "\n",
       "     strength  \n",
       "438     17.84  \n",
       "115     12.79  \n",
       "718     21.16  \n",
       "265     15.62  \n",
       "597     24.90  "
      ]
     },
     "execution_count": 8,
     "metadata": {},
     "output_type": "execute_result"
    }
   ],
   "source": [
    "concrete.sample(5)"
   ]
  },
  {
   "cell_type": "code",
   "execution_count": 9,
   "id": "e5745134",
   "metadata": {},
   "outputs": [
    {
     "data": {
      "text/plain": [
       "True"
      ]
     },
     "execution_count": 9,
     "metadata": {},
     "output_type": "execute_result"
    }
   ],
   "source": [
    "0.0 in concrete['slag'].values"
   ]
  },
  {
   "cell_type": "markdown",
   "id": "c69475d5",
   "metadata": {},
   "source": [
    "### Quality Issues:\n",
    "1. There are 25 duplicate rows.\n",
    "2. \"0.0\" values instead of null."
   ]
  },
  {
   "cell_type": "markdown",
   "id": "7424ccc5",
   "metadata": {},
   "source": [
    "### Data Cleaning"
   ]
  },
  {
   "cell_type": "code",
   "execution_count": 10,
   "id": "4f84395a",
   "metadata": {},
   "outputs": [],
   "source": [
    "concrete_clean = concrete.copy()"
   ]
  },
  {
   "cell_type": "markdown",
   "id": "20b83c38",
   "metadata": {},
   "source": [
    "#### There are 25 duplicate rows."
   ]
  },
  {
   "cell_type": "markdown",
   "id": "4214eeb9",
   "metadata": {},
   "source": [
    "#### Define: \n",
    "Remove the duplicate rows using the `drop_duplicates()` function."
   ]
  },
  {
   "cell_type": "markdown",
   "id": "922053ce",
   "metadata": {},
   "source": [
    "#### Code:"
   ]
  },
  {
   "cell_type": "code",
   "execution_count": 11,
   "id": "ad1465bd",
   "metadata": {},
   "outputs": [],
   "source": [
    "concrete_clean.drop_duplicates(inplace = True, ignore_index = True)"
   ]
  },
  {
   "cell_type": "markdown",
   "id": "529d75b8",
   "metadata": {},
   "source": [
    "#### Test"
   ]
  },
  {
   "cell_type": "code",
   "execution_count": 12,
   "id": "969beed5",
   "metadata": {},
   "outputs": [
    {
     "data": {
      "text/plain": [
       "0"
      ]
     },
     "execution_count": 12,
     "metadata": {},
     "output_type": "execute_result"
    }
   ],
   "source": [
    "concrete_clean.duplicated().sum()"
   ]
  },
  {
   "cell_type": "markdown",
   "id": "e1bb6858",
   "metadata": {},
   "source": [
    "#### \"0.0\" values instead of null."
   ]
  },
  {
   "cell_type": "markdown",
   "id": "47b665c5",
   "metadata": {},
   "source": [
    "#### Define:\n"
   ]
  },
  {
   "cell_type": "markdown",
   "id": "db00ad2c",
   "metadata": {},
   "source": [
    "#### Code:"
   ]
  },
  {
   "cell_type": "code",
   "execution_count": 13,
   "id": "e485d0eb",
   "metadata": {},
   "outputs": [],
   "source": [
    "concrete_clean = concrete_clean.replace(0.0,np.nan)\n",
    "concrete_clean.dropna(inplace = True)\n",
    "concrete_clean.reset_index(drop=True, inplace = True)"
   ]
  },
  {
   "cell_type": "markdown",
   "id": "0c8a4f56",
   "metadata": {},
   "source": [
    "#### Test:"
   ]
  },
  {
   "cell_type": "code",
   "execution_count": 14,
   "id": "fefdcc66",
   "metadata": {},
   "outputs": [
    {
     "data": {
      "text/plain": [
       "False"
      ]
     },
     "execution_count": 14,
     "metadata": {},
     "output_type": "execute_result"
    }
   ],
   "source": [
    "0.0 in concrete_clean['slag'].values"
   ]
  },
  {
   "cell_type": "code",
   "execution_count": 15,
   "id": "c18dd7d9",
   "metadata": {},
   "outputs": [
    {
     "data": {
      "text/plain": [
       "(225, 9)"
      ]
     },
     "execution_count": 15,
     "metadata": {},
     "output_type": "execute_result"
    }
   ],
   "source": [
    "concrete_clean.shape"
   ]
  },
  {
   "cell_type": "markdown",
   "id": "757d8164",
   "metadata": {},
   "source": [
    "# Exploratory Analysis"
   ]
  },
  {
   "cell_type": "markdown",
   "id": "ea3d8af7",
   "metadata": {},
   "source": [
    "## Univariate Exploration"
   ]
  },
  {
   "cell_type": "markdown",
   "id": "af8dcb2c",
   "metadata": {},
   "source": [
    "#### Question:\n",
    "How does the distribution of \"strength\" of concrete looks?"
   ]
  },
  {
   "cell_type": "markdown",
   "id": "2d367db6",
   "metadata": {},
   "source": [
    "#### Visualization"
   ]
  },
  {
   "cell_type": "code",
   "execution_count": 16,
   "id": "6cc96253",
   "metadata": {},
   "outputs": [
    {
     "data": {
      "image/png": "[encoded data removed]",
      "text/plain": [
       "<Figure size 500x500 with 1 Axes>"
      ]
     },
     "metadata": {},
     "output_type": "display_data"
    }
   ],
   "source": [
    "bin_edges = np.arange(concrete_clean['strength'].min(),concrete_clean['strength'].max() + 3.5, 3.5)\n",
    "sb.displot(concrete_clean['strength'], bins = bin_edges);"
   ]
  },
  {
   "cell_type": "markdown",
   "id": "f72a1cef",
   "metadata": {},
   "source": [
    "#### Observation:\n",
    "An approximately normal distribution having 3-4 unusual spikes of strength values less than 40Mpa"
   ]
  },
  {
   "cell_type": "markdown",
   "id": "f5a01aa7",
   "metadata": {},
   "source": [
    "#### Question:\n",
    "What is the shape of 'water' distribution plot?"
   ]
  },
  {
   "cell_type": "markdown",
   "id": "1cd853cb",
   "metadata": {},
   "source": [
    "#### Visualization:"
   ]
  },
  {
   "cell_type": "code",
   "execution_count": 17,
   "id": "ef66bd6f",
   "metadata": {},
   "outputs": [
    {
     "data": {
      "image/png": "[encoded data removed]",
      "text/plain": [
       "<Figure size 500x500 with 1 Axes>"
      ]
     },
     "metadata": {},
     "output_type": "display_data"
    }
   ],
   "source": [
    "bin_edges = np.arange(concrete_clean['water'].min(),concrete_clean['water'].max() + 5,5)\n",
    "sb.displot(concrete_clean['water'], bins = bin_edges);"
   ]
  },
  {
   "cell_type": "markdown",
   "id": "3500a72e",
   "metadata": {},
   "source": [
    "#### Observation: \n",
    "Almost all the water volume in the dataset are above 150, while a very few are above 220. I observe that water volumes of about 160 - 180 have the highest frequency."
   ]
  },
  {
   "cell_type": "markdown",
   "id": "ae61d20d",
   "metadata": {},
   "source": [
    "## Bivariate Exploration"
   ]
  },
  {
   "cell_type": "markdown",
   "id": "75800527",
   "metadata": {},
   "source": [
    "#### Question:\n",
    "Is strength of concrete dependent on the quantity of cement?"
   ]
  },
  {
   "cell_type": "markdown",
   "id": "66b62b00",
   "metadata": {},
   "source": [
    "#### Visualization:"
   ]
  },
  {
   "cell_type": "code",
   "execution_count": 18,
   "id": "fdd01554",
   "metadata": {},
   "outputs": [
    {
     "data": {
      "image/png": "[encoded data removed]",
      "text/plain": [
       "<Figure size 640x480 with 1 Axes>"
      ]
     },
     "metadata": {},
     "output_type": "display_data"
    }
   ],
   "source": [
    "sb.regplot(data= concrete_clean, x='cement',y='strength');"
   ]
  },
  {
   "cell_type": "markdown",
   "id": "55832526",
   "metadata": {},
   "source": [
    "It can be observed that for the same quantity of cement, there are different levels of strength. This implies that within a range of cement quantity used, there is/are another variable(s) upon which a strength of concrete is dependent. However, generally the higher the quantity of cement the likeliness of a greater strength.\n",
    "\n",
    "A plot of strength against the proportion of water-to-cement (w/c) ratio should give a meaningful insight."
   ]
  },
  {
   "cell_type": "code",
   "execution_count": 19,
   "id": "2bfa69fe",
   "metadata": {},
   "outputs": [
    {
     "data": {
      "image/png": "[encoded data removed]",
      "text/plain": [
       "<Figure size 640x480 with 1 Axes>"
      ]
     },
     "metadata": {},
     "output_type": "display_data"
    }
   ],
   "source": [
    "# create a w/c ratio column\n",
    "concrete_clean['water_cmt_ratio'] = concrete_clean['water'] / concrete_clean['cement']\n",
    "# create a new copy of dataframe\n",
    "concrete_clean_plus = concrete_clean.copy()\n",
    "# create plot of strength against the w/c ratio \n",
    "sb.regplot(data= concrete_clean_plus, x='water_cmt_ratio',y='strength', fit_reg = False);"
   ]
  },
  {
   "cell_type": "markdown",
   "id": "6dc2932f",
   "metadata": {},
   "source": [
    "#### Observation: \n",
    "It is observed that the lower the water-to-cement ratio, the increase in strength. Yet still as before, for an equal value of of water-to-cement ratio there are increasing levels of strength. This tells that there are other variable that come into play. "
   ]
  },
  {
   "cell_type": "code",
   "execution_count": 20,
   "id": "1e641d71",
   "metadata": {},
   "outputs": [
    {
     "name": "stdout",
     "output_type": "stream",
     "text": [
      "1.6943450250536864 0.3632286995515695\n"
     ]
    }
   ],
   "source": [
    "print(concrete_clean_plus['water_cmt_ratio'].max(),concrete_clean_plus['water_cmt_ratio'].min())"
   ]
  },
  {
   "cell_type": "code",
   "execution_count": 21,
   "id": "2c9a917a",
   "metadata": {},
   "outputs": [],
   "source": [
    "# create a category of grades labelled (A-F) for the w/c ratio with a bin-size of 0.24\n",
    "category = pd.cut(concrete_clean_plus.water_cmt_ratio, bins =[0.36,0.60,0.84,1.08,1.32,1.56,1.80], labels = ['A','B','C','D','E','F'])\n",
    "# insert the new column 'water_cmt_grade' right next to the 10th column of the dataframe.\n",
    "concrete_clean_plus.insert(9, 'water_cmt_grade', category)"
   ]
  },
  {
   "cell_type": "code",
   "execution_count": 22,
   "id": "7452f0a9",
   "metadata": {},
   "outputs": [
    {
     "data": {
      "text/html": [
       "<div>\n",
       "<style scoped>\n",
       "    .dataframe tbody tr th:only-of-type {\n",
       "        vertical-align: middle;\n",
       "    }\n",
       "\n",
       "    .dataframe tbody tr th {\n",
       "        vertical-align: top;\n",
       "    }\n",
       "\n",
       "    .dataframe thead th {\n",
       "        text-align: right;\n",
       "    }\n",
       "</style>\n",
       "<table border=\"1\" class=\"dataframe\">\n",
       "  <thead>\n",
       "    <tr style=\"text-align: right;\">\n",
       "      <th></th>\n",
       "      <th>cement</th>\n",
       "      <th>slag</th>\n",
       "      <th>ash</th>\n",
       "      <th>water</th>\n",
       "      <th>superplastic</th>\n",
       "      <th>coarseagg</th>\n",
       "      <th>fineagg</th>\n",
       "      <th>age</th>\n",
       "      <th>strength</th>\n",
       "      <th>water_cmt_grade</th>\n",
       "      <th>water_cmt_ratio</th>\n",
       "    </tr>\n",
       "  </thead>\n",
       "  <tbody>\n",
       "    <tr>\n",
       "      <th>0</th>\n",
       "      <td>168.9</td>\n",
       "      <td>42.2</td>\n",
       "      <td>124.3</td>\n",
       "      <td>158.3</td>\n",
       "      <td>10.8</td>\n",
       "      <td>1080.8</td>\n",
       "      <td>796.2</td>\n",
       "      <td>14</td>\n",
       "      <td>23.51</td>\n",
       "      <td>C</td>\n",
       "      <td>0.937241</td>\n",
       "    </tr>\n",
       "    <tr>\n",
       "      <th>1</th>\n",
       "      <td>155.0</td>\n",
       "      <td>184.0</td>\n",
       "      <td>143.0</td>\n",
       "      <td>194.0</td>\n",
       "      <td>9.0</td>\n",
       "      <td>880.0</td>\n",
       "      <td>699.0</td>\n",
       "      <td>28</td>\n",
       "      <td>28.99</td>\n",
       "      <td>D</td>\n",
       "      <td>1.251613</td>\n",
       "    </tr>\n",
       "    <tr>\n",
       "      <th>2</th>\n",
       "      <td>151.8</td>\n",
       "      <td>178.1</td>\n",
       "      <td>138.7</td>\n",
       "      <td>167.5</td>\n",
       "      <td>18.3</td>\n",
       "      <td>944.0</td>\n",
       "      <td>694.6</td>\n",
       "      <td>28</td>\n",
       "      <td>36.35</td>\n",
       "      <td>D</td>\n",
       "      <td>1.103426</td>\n",
       "    </tr>\n",
       "    <tr>\n",
       "      <th>3</th>\n",
       "      <td>167.0</td>\n",
       "      <td>187.0</td>\n",
       "      <td>195.0</td>\n",
       "      <td>185.0</td>\n",
       "      <td>7.0</td>\n",
       "      <td>898.0</td>\n",
       "      <td>636.0</td>\n",
       "      <td>28</td>\n",
       "      <td>23.89</td>\n",
       "      <td>D</td>\n",
       "      <td>1.107784</td>\n",
       "    </tr>\n",
       "    <tr>\n",
       "      <th>4</th>\n",
       "      <td>213.8</td>\n",
       "      <td>98.1</td>\n",
       "      <td>24.5</td>\n",
       "      <td>181.7</td>\n",
       "      <td>6.7</td>\n",
       "      <td>1066.0</td>\n",
       "      <td>785.5</td>\n",
       "      <td>100</td>\n",
       "      <td>49.97</td>\n",
       "      <td>C</td>\n",
       "      <td>0.849860</td>\n",
       "    </tr>\n",
       "  </tbody>\n",
       "</table>\n",
       "</div>"
      ],
      "text/plain": [
       "   cement   slag    ash  water  superplastic  coarseagg  fineagg  age  \\\n",
       "0   168.9   42.2  124.3  158.3          10.8     1080.8    796.2   14   \n",
       "1   155.0  184.0  143.0  194.0           9.0      880.0    699.0   28   \n",
       "2   151.8  178.1  138.7  167.5          18.3      944.0    694.6   28   \n",
       "3   167.0  187.0  195.0  185.0           7.0      898.0    636.0   28   \n",
       "4   213.8   98.1   24.5  181.7           6.7     1066.0    785.5  100   \n",
       "\n",
       "   strength water_cmt_grade  water_cmt_ratio  \n",
       "0     23.51               C         0.937241  \n",
       "1     28.99               D         1.251613  \n",
       "2     36.35               D         1.103426  \n",
       "3     23.89               D         1.107784  \n",
       "4     49.97               C         0.849860  "
      ]
     },
     "execution_count": 22,
     "metadata": {},
     "output_type": "execute_result"
    }
   ],
   "source": [
    "concrete_clean_plus.head(5)"
   ]
  },
  {
   "cell_type": "code",
   "execution_count": 23,
   "id": "4470167a",
   "metadata": {},
   "outputs": [
    {
     "data": {
      "text/plain": [
       "A    65\n",
       "B    46\n",
       "C    61\n",
       "D    34\n",
       "E    17\n",
       "F     2\n",
       "Name: water_cmt_grade, dtype: int64"
      ]
     },
     "execution_count": 23,
     "metadata": {},
     "output_type": "execute_result"
    }
   ],
   "source": [
    "concrete_clean_plus['water_cmt_grade'].value_counts(sort=False)"
   ]
  },
  {
   "cell_type": "markdown",
   "id": "652a606e",
   "metadata": {},
   "source": [
    "#### Question:\n",
    "Which grade of w/c ratio in this dataset has the highest, and which has the least?"
   ]
  },
  {
   "cell_type": "markdown",
   "id": "f79e18e7",
   "metadata": {},
   "source": [
    "#### Visualization (univariate):"
   ]
  },
  {
   "cell_type": "code",
   "execution_count": 24,
   "id": "e58225f9",
   "metadata": {},
   "outputs": [],
   "source": [
    "# convert to an ordered categorical datatype\n",
    "g_class = ['A','B','C','D','E','F']\n",
    "grade_class = pd.api.types.CategoricalDtype(ordered = True, categories = g_class)\n",
    "concrete_clean_plus['water_cmt_grade'] = concrete_clean_plus['water_cmt_grade'].astype(grade_class);"
   ]
  },
  {
   "cell_type": "code",
   "execution_count": 25,
   "id": "7b2cb7f3",
   "metadata": {},
   "outputs": [
    {
     "data": {
      "image/png": "[encoded data removed]",
      "text/plain": [
       "<Figure size 640x480 with 1 Axes>"
      ]
     },
     "metadata": {},
     "output_type": "display_data"
    }
   ],
   "source": [
    "# plot a barchart of w/c ratio grades\n",
    "base_color = sb.color_palette()[0]\n",
    "sb.countplot(data=concrete_clean_plus, x='water_cmt_grade', color = base_color);"
   ]
  },
  {
   "cell_type": "markdown",
   "id": "2f2a02bb",
   "metadata": {},
   "source": [
    "#### Observation: \n",
    "Grade A has the highest occurence while Grade F has the least occurence. Grade C has the second highest occurence, followed by Grade B,D,E in that order."
   ]
  },
  {
   "cell_type": "markdown",
   "id": "b4314fc7",
   "metadata": {},
   "source": [
    "#### Question: \n",
    "What is the grade - strength relationship across all water-to-cement grade in the dataset?"
   ]
  },
  {
   "cell_type": "code",
   "execution_count": 26,
   "id": "4df807f0",
   "metadata": {},
   "outputs": [],
   "source": [
    "base_color = sb.color_palette()[0]"
   ]
  },
  {
   "cell_type": "code",
   "execution_count": 28,
   "id": "e7bbf5dc",
   "metadata": {},
   "outputs": [
    {
     "data": {
      "image/png": "[encoded data removed]",
      "text/plain": [
       "<Figure size 2000x500 with 2 Axes>"
      ]
     },
     "metadata": {},
     "output_type": "display_data"
    }
   ],
   "source": [
    "rcParams['figure.figsize']=20,5\n",
    "# Violin plot on the LHS\n",
    "plt.subplot(1,2,1)\n",
    "sb.violinplot(data=concrete_clean_plus, x='water_cmt_grade',y='strength', color= base_color);\n",
    "# Box plot on the RHS\n",
    "plt.subplot(1,2,2)\n",
    "sb.boxplot(data=concrete_clean_plus, x='water_cmt_grade',y='strength');"
   ]
  },
  {
   "cell_type": "markdown",
   "id": "ed1e41b1",
   "metadata": {},
   "source": [
    "#### Observation:\n",
    "The box plot on the rigth shows that the median strength of Grade-D concrete is the lowest of all the grades, while it also reveals that there is a linear decrease in median strength with Grade-A having the highest, followed by Grade-B then Grade-C. Interestingly, Grade-E concrete samples have a slightly higher median strength than the preceding Grade-D, and it also appears to be bimodal from the violin plot.\n",
    "Also, the shape (extremely skinny on each end and wide in the middle) of the distribution of Grade-D indicates that the strengths of concrete samples are highly concentrated around the median, likewise Grade-B."
   ]
  },
  {
   "cell_type": "code",
   "execution_count": null,
   "id": "8d7e57fc",
   "metadata": {},
   "outputs": [],
   "source": []
  },
  {
   "cell_type": "code",
   "execution_count": null,
   "id": "bca7c8b1",
   "metadata": {},
   "outputs": [],
   "source": []
  },
  {
   "cell_type": "code",
   "execution_count": null,
   "id": "7e234bf8",
   "metadata": {},
   "outputs": [],
   "source": []
  },
  {
   "cell_type": "code",
   "execution_count": null,
   "id": "85f95e08",
   "metadata": {},
   "outputs": [],
   "source": []
  }
 ],
 "metadata": {
  "kernelspec": {
   "display_name": "Python 3 (ipykernel)",
   "language": "python",
   "name": "python3"
  },
  "language_info": {
   "codemirror_mode": {
    "name": "ipython",
    "version": 3
   },
   "file_extension": ".py",
   "mimetype": "text/x-python",
   "name": "python",
   "nbconvert_exporter": "python",
   "pygments_lexer": "ipython3",
   "version": "3.9.13"
  }
 },
 "nbformat": 4,
 "nbformat_minor": 5
}
